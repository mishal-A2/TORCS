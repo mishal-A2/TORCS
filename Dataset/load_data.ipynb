{
 "cells": [
  {
   "cell_type": "code",
   "execution_count": 85,
   "id": "3556a034",
   "metadata": {},
   "outputs": [],
   "source": [
    "import pandas as pd\n",
    "import numpy as np\n",
    "from sklearn.preprocessing import StandardScaler\n",
    "from sklearn.decomposition import PCA"
   ]
  },
  {
   "cell_type": "code",
   "execution_count": 86,
   "id": "a761bd24",
   "metadata": {},
   "outputs": [
    {
     "name": "stdout",
     "output_type": "stream",
     "text": [
      "Shape: (37736, 51)\n",
      "Columns: ['speedX', 'speedY', 'speedZ', 'angle', 'trackPos', 'rpm', 'gear', 'steer_input', 'accel_input', 'brake_input', 'num_opponents', 'opponent_0_angle', 'opponent_1_angle', 'opponent_2_angle', 'opponent_3_angle', 'opponent_4_angle', 'opponent_5_angle', 'opponent_6_angle', 'opponent_7_angle', 'opponent_8_angle', 'opponent_9_angle', 'opponent_0_distance', 'opponent_1_distance', 'opponent_2_distance', 'opponent_3_distance', 'opponent_4_distance', 'opponent_5_distance', 'opponent_6_distance', 'opponent_7_distance', 'opponent_8_distance', 'opponent_9_distance', 'track_pos', 'track_0', 'track_1', 'track_2', 'track_3', 'track_4', 'track_5', 'track_6', 'track_7', 'track_8', 'track_9', 'track_10', 'track_11', 'track_12', 'track_13', 'track_14', 'track_15', 'track_16', 'track_17', 'track_18']\n"
     ]
    }
   ],
   "source": [
    "df = pd.read_csv('driving_data.csv')\n",
    "print(\"Shape:\", df.shape)\n",
    "print(\"Columns:\", df.columns.tolist())"
   ]
  },
  {
   "cell_type": "code",
   "execution_count": 87,
   "id": "4fd494b6",
   "metadata": {},
   "outputs": [
    {
     "name": "stdout",
     "output_type": "stream",
     "text": [
      "     speedX    speedY    speedZ     angle  trackPos     rpm  gear  \\\n",
      "0 -0.025037  0.026839 -0.026763 -0.002788  0.333891  1047.2     1   \n",
      "1 -0.025037  0.026839 -0.026763 -0.002788  0.333891  1047.2     1   \n",
      "2 -0.025037  0.026839 -0.026763 -0.002788  0.333891  1047.2     1   \n",
      "3 -0.025037  0.026839 -0.026763 -0.002788  0.333891  1047.2     1   \n",
      "4 -0.025037  0.026839 -0.026763 -0.002788  0.333891  1047.2     1   \n",
      "\n",
      "   steer_input  accel_input  brake_input  ...  track_9  track_10  track_11  \\\n",
      "0          0.0          0.0          0.0  ...    200.0   86.9471   42.9276   \n",
      "1          0.0          0.0          0.0  ...    200.0   86.9471   42.9276   \n",
      "2          0.0          0.0          0.0  ...    200.0   86.9471   42.9276   \n",
      "3          0.0          0.0          0.0  ...    200.0   86.9471   42.9276   \n",
      "4          0.0          0.0          0.0  ...    200.0   86.9471   42.9276   \n",
      "\n",
      "   track_12  track_13  track_14  track_15  track_16  track_17  track_18  \n",
      "0   28.6439   21.6159   14.7441   10.4043   8.48504   7.60091   7.33643  \n",
      "1   28.6439   21.6159   14.7441   10.4043   8.48504   7.60091   7.33643  \n",
      "2   28.6439   21.6159   14.7441   10.4043   8.48504   7.60091   7.33643  \n",
      "3   28.6439   21.6159   14.7441   10.4043   8.48504   7.60091   7.33643  \n",
      "4   28.6439   21.6159   14.7441   10.4043   8.48504   7.60091   7.33643  \n",
      "\n",
      "[5 rows x 51 columns]\n"
     ]
    }
   ],
   "source": [
    "print(df.head())"
   ]
  },
  {
   "cell_type": "code",
   "execution_count": 88,
   "id": "f4ac5b7f",
   "metadata": {},
   "outputs": [
    {
     "name": "stdout",
     "output_type": "stream",
     "text": [
      "<class 'pandas.core.frame.DataFrame'>\n",
      "RangeIndex: 37736 entries, 0 to 37735\n",
      "Data columns (total 51 columns):\n",
      " #   Column               Non-Null Count  Dtype  \n",
      "---  ------               --------------  -----  \n",
      " 0   speedX               37736 non-null  float64\n",
      " 1   speedY               37736 non-null  float64\n",
      " 2   speedZ               37736 non-null  float64\n",
      " 3   angle                37736 non-null  float64\n",
      " 4   trackPos             37736 non-null  float64\n",
      " 5   rpm                  37736 non-null  float64\n",
      " 6   gear                 37736 non-null  int64  \n",
      " 7   steer_input          37736 non-null  float64\n",
      " 8   accel_input          37736 non-null  float64\n",
      " 9   brake_input          37736 non-null  float64\n",
      " 10  num_opponents        37736 non-null  int64  \n",
      " 11  opponent_0_angle     37736 non-null  int64  \n",
      " 12  opponent_1_angle     37736 non-null  float64\n",
      " 13  opponent_2_angle     37736 non-null  int64  \n",
      " 14  opponent_3_angle     37736 non-null  float64\n",
      " 15  opponent_4_angle     37736 non-null  int64  \n",
      " 16  opponent_5_angle     37736 non-null  float64\n",
      " 17  opponent_6_angle     37736 non-null  int64  \n",
      " 18  opponent_7_angle     37736 non-null  float64\n",
      " 19  opponent_8_angle     37736 non-null  int64  \n",
      " 20  opponent_9_angle     37736 non-null  float64\n",
      " 21  opponent_0_distance  37736 non-null  int64  \n",
      " 22  opponent_1_distance  37736 non-null  float64\n",
      " 23  opponent_2_distance  37736 non-null  int64  \n",
      " 24  opponent_3_distance  37736 non-null  float64\n",
      " 25  opponent_4_distance  37736 non-null  int64  \n",
      " 26  opponent_5_distance  37736 non-null  float64\n",
      " 27  opponent_6_distance  37736 non-null  int64  \n",
      " 28  opponent_7_distance  37736 non-null  float64\n",
      " 29  opponent_8_distance  37736 non-null  int64  \n",
      " 30  opponent_9_distance  37736 non-null  float64\n",
      " 31  track_pos            37736 non-null  float64\n",
      " 32  track_0              37736 non-null  float64\n",
      " 33  track_1              37736 non-null  float64\n",
      " 34  track_2              37736 non-null  float64\n",
      " 35  track_3              37736 non-null  float64\n",
      " 36  track_4              37736 non-null  float64\n",
      " 37  track_5              37736 non-null  float64\n",
      " 38  track_6              37736 non-null  float64\n",
      " 39  track_7              37736 non-null  float64\n",
      " 40  track_8              37736 non-null  float64\n",
      " 41  track_9              37736 non-null  float64\n",
      " 42  track_10             37736 non-null  float64\n",
      " 43  track_11             37736 non-null  float64\n",
      " 44  track_12             37736 non-null  float64\n",
      " 45  track_13             37736 non-null  float64\n",
      " 46  track_14             37736 non-null  float64\n",
      " 47  track_15             37736 non-null  float64\n",
      " 48  track_16             37736 non-null  float64\n",
      " 49  track_17             37736 non-null  float64\n",
      " 50  track_18             37736 non-null  float64\n",
      "dtypes: float64(39), int64(12)\n",
      "memory usage: 14.7 MB\n",
      "None\n"
     ]
    }
   ],
   "source": [
    "print(df.info())"
   ]
  },
  {
   "cell_type": "code",
   "execution_count": 89,
   "id": "97d56c1b",
   "metadata": {},
   "outputs": [
    {
     "data": {
      "text/plain": [
       "speedX                 0\n",
       "speedY                 0\n",
       "speedZ                 0\n",
       "angle                  0\n",
       "trackPos               0\n",
       "rpm                    0\n",
       "gear                   0\n",
       "steer_input            0\n",
       "accel_input            0\n",
       "brake_input            0\n",
       "num_opponents          0\n",
       "opponent_0_angle       0\n",
       "opponent_1_angle       0\n",
       "opponent_2_angle       0\n",
       "opponent_3_angle       0\n",
       "opponent_4_angle       0\n",
       "opponent_5_angle       0\n",
       "opponent_6_angle       0\n",
       "opponent_7_angle       0\n",
       "opponent_8_angle       0\n",
       "opponent_9_angle       0\n",
       "opponent_0_distance    0\n",
       "opponent_1_distance    0\n",
       "opponent_2_distance    0\n",
       "opponent_3_distance    0\n",
       "opponent_4_distance    0\n",
       "opponent_5_distance    0\n",
       "opponent_6_distance    0\n",
       "opponent_7_distance    0\n",
       "opponent_8_distance    0\n",
       "opponent_9_distance    0\n",
       "track_pos              0\n",
       "track_0                0\n",
       "track_1                0\n",
       "track_2                0\n",
       "track_3                0\n",
       "track_4                0\n",
       "track_5                0\n",
       "track_6                0\n",
       "track_7                0\n",
       "track_8                0\n",
       "track_9                0\n",
       "track_10               0\n",
       "track_11               0\n",
       "track_12               0\n",
       "track_13               0\n",
       "track_14               0\n",
       "track_15               0\n",
       "track_16               0\n",
       "track_17               0\n",
       "track_18               0\n",
       "dtype: int64"
      ]
     },
     "execution_count": 89,
     "metadata": {},
     "output_type": "execute_result"
    }
   ],
   "source": [
    "df.isna().sum().sort_values(ascending=False)\n"
   ]
  },
  {
   "cell_type": "code",
   "execution_count": 90,
   "id": "7d68697b",
   "metadata": {},
   "outputs": [
    {
     "name": "stdout",
     "output_type": "stream",
     "text": [
      "speedX                 33221\n",
      "speedY                 37118\n",
      "speedZ                 36998\n",
      "angle                  36469\n",
      "trackPos               36590\n",
      "rpm                    35065\n",
      "gear                       7\n",
      "steer_input                3\n",
      "accel_input                3\n",
      "brake_input                2\n",
      "num_opponents              7\n",
      "opponent_0_angle          36\n",
      "opponent_1_angle       34594\n",
      "opponent_2_angle          36\n",
      "opponent_3_angle       31502\n",
      "opponent_4_angle          36\n",
      "opponent_5_angle       21036\n",
      "opponent_6_angle          36\n",
      "opponent_7_angle        9325\n",
      "opponent_8_angle          36\n",
      "opponent_9_angle        2551\n",
      "opponent_0_distance       18\n",
      "opponent_1_distance      196\n",
      "opponent_2_distance        1\n",
      "opponent_3_distance        1\n",
      "opponent_4_distance        1\n",
      "opponent_5_distance        1\n",
      "opponent_6_distance        1\n",
      "opponent_7_distance        1\n",
      "opponent_8_distance        1\n",
      "opponent_9_distance        1\n",
      "track_pos              36590\n",
      "track_0                32287\n",
      "track_1                32485\n",
      "track_2                32262\n",
      "track_3                31805\n",
      "track_4                31730\n",
      "track_5                31729\n",
      "track_6                31964\n",
      "track_7                32302\n",
      "track_8                32044\n",
      "track_9                26156\n",
      "track_10               31737\n",
      "track_11               32470\n",
      "track_12               32048\n",
      "track_13               31812\n",
      "track_14               31710\n",
      "track_15               31651\n",
      "track_16               31940\n",
      "track_17               32172\n",
      "track_18               32066\n",
      "dtype: int64\n"
     ]
    }
   ],
   "source": [
    "print(df.nunique())"
   ]
  },
  {
   "cell_type": "code",
   "execution_count": 91,
   "id": "71e08067",
   "metadata": {},
   "outputs": [
    {
     "name": "stdout",
     "output_type": "stream",
     "text": [
      "speedX                 0.006625\n",
      "speedY                 0.006625\n",
      "speedZ                 0.000000\n",
      "angle                  0.000000\n",
      "trackPos               0.000000\n",
      "rpm                    0.000000\n",
      "gear                   0.000000\n",
      "steer_input            0.698829\n",
      "accel_input            0.172302\n",
      "brake_input            0.952062\n",
      "num_opponents          0.048097\n",
      "opponent_0_angle       0.234047\n",
      "opponent_1_angle       0.000000\n",
      "opponent_2_angle       0.278169\n",
      "opponent_3_angle       0.000000\n",
      "opponent_4_angle       0.491600\n",
      "opponent_5_angle       0.000000\n",
      "opponent_6_angle       0.769663\n",
      "opponent_7_angle       0.000000\n",
      "opponent_8_angle       0.932187\n",
      "opponent_9_angle       0.000000\n",
      "opponent_0_distance    0.995363\n",
      "opponent_1_distance    0.000000\n",
      "opponent_2_distance    1.000000\n",
      "opponent_3_distance    0.000000\n",
      "opponent_4_distance    1.000000\n",
      "opponent_5_distance    0.000000\n",
      "opponent_6_distance    1.000000\n",
      "opponent_7_distance    0.000000\n",
      "opponent_8_distance    1.000000\n",
      "opponent_9_distance    0.000000\n",
      "track_pos              0.000000\n",
      "track_0                0.000000\n",
      "track_1                0.000000\n",
      "track_2                0.000000\n",
      "track_3                0.000000\n",
      "track_4                0.000000\n",
      "track_5                0.000000\n",
      "track_6                0.000000\n",
      "track_7                0.000000\n",
      "track_8                0.000000\n",
      "track_9                0.000000\n",
      "track_10               0.000000\n",
      "track_11               0.000000\n",
      "track_12               0.000000\n",
      "track_13               0.000000\n",
      "track_14               0.000000\n",
      "track_15               0.000000\n",
      "track_16               0.000000\n",
      "track_17               0.000000\n",
      "track_18               0.000000\n",
      "dtype: float64\n"
     ]
    }
   ],
   "source": [
    "print((df==0).mean())"
   ]
  },
  {
   "cell_type": "code",
   "execution_count": 92,
   "id": "ffc2df95",
   "metadata": {},
   "outputs": [
    {
     "name": "stdout",
     "output_type": "stream",
     "text": [
      "Dropped constant columns: ['opponent_2_distance', 'opponent_3_distance', 'opponent_4_distance', 'opponent_5_distance', 'opponent_6_distance', 'opponent_7_distance', 'opponent_8_distance', 'opponent_9_distance']\n"
     ]
    }
   ],
   "source": [
    "constant_cols = [c for c in df.columns if df[c].nunique() == 1]\n",
    "df.drop(columns=constant_cols, inplace=True)\n",
    "print(\"Dropped constant columns:\", constant_cols)\n"
   ]
  },
  {
   "cell_type": "code",
   "execution_count": 93,
   "id": "5fea93cd",
   "metadata": {},
   "outputs": [
    {
     "name": "stdout",
     "output_type": "stream",
     "text": [
      "Removed 2093 rows with no control inputs\n"
     ]
    }
   ],
   "source": [
    "before = len(df)\n",
    "df = df.loc[~((df['steer_input']==0) & (df['accel_input']==0) & (df['brake_input']==0))]\n",
    "print(f\"Removed {before - len(df)} rows with no control inputs\")\n"
   ]
  },
  {
   "cell_type": "code",
   "execution_count": 94,
   "id": "83bccf0a",
   "metadata": {},
   "outputs": [],
   "source": [
    "# # 1) identify all of your raw track‑distance columns\n",
    "# track_cols = [c for c in df.columns if c.startswith('track')]\n",
    "\n",
    "# # 2) build the summary statistics\n",
    "# df['track_min']  = df[track_cols].min(axis=1)\n",
    "# df['track_mean'] = df[track_cols].mean(axis=1)\n",
    "# df['track_max']  = df[track_cols].max(axis=1)\n",
    "\n",
    "# # 3) now these three exist—drop the original track_cols if you like\n",
    "# df.drop(columns=track_cols, inplace=True)\n"
   ]
  },
  {
   "cell_type": "code",
   "execution_count": 95,
   "id": "4de24b74",
   "metadata": {},
   "outputs": [],
   "source": [
    "track_cols = [c for c in df.columns if c.startswith('track')]\n",
    "pca = PCA(n_components=1)\n",
    "df['track_sensor'] = pca.fit_transform(df[track_cols])\n",
    "df.drop(columns=track_cols, inplace=True)"
   ]
  },
  {
   "cell_type": "code",
   "execution_count": 100,
   "id": "5162eda3",
   "metadata": {},
   "outputs": [
    {
     "name": "stdout",
     "output_type": "stream",
     "text": [
      "Found opponent columns: ['opponent_0_distance', 'opponent_1_distance']\n"
     ]
    }
   ],
   "source": [
    "opp_cols = [c for c in df.columns \n",
    "            if c.startswith(\"opponent_\") \n",
    "            and (c.endswith(\"_angle\") or c.endswith(\"_distance\"))]\n",
    "\n",
    "print(\"Found opponent columns:\", opp_cols)\n",
    "\n",
    "# 2) PCA into a single feature\n",
    "pca = PCA(n_components=1, random_state=42)\n",
    "df['opponent_sensor'] = pca.fit_transform(df[opp_cols])\n",
    "\n",
    "# 3) drop the high‑dimensional originals\n",
    "df.drop(columns=opp_cols, inplace=True)"
   ]
  },
  {
   "cell_type": "code",
   "execution_count": 101,
   "id": "a1aff03f",
   "metadata": {},
   "outputs": [],
   "source": [
    "scaler = StandardScaler()\n",
    "features = ['steer_input','accel_input','brake_input','track_sensor','opponent_sensor']  # adjust as needed\n",
    "df[features] = scaler.fit_transform(df[features])"
   ]
  },
  {
   "cell_type": "code",
   "execution_count": 103,
   "id": "91c95652",
   "metadata": {},
   "outputs": [],
   "source": [
    "df.to_csv('driving_data_cleaned.csv', index=False)"
   ]
  }
 ],
 "metadata": {
  "kernelspec": {
   "display_name": "Python 3",
   "language": "python",
   "name": "python3"
  },
  "language_info": {
   "codemirror_mode": {
    "name": "ipython",
    "version": 3
   },
   "file_extension": ".py",
   "mimetype": "text/x-python",
   "name": "python",
   "nbconvert_exporter": "python",
   "pygments_lexer": "ipython3",
   "version": "3.12.4"
  }
 },
 "nbformat": 4,
 "nbformat_minor": 5
}
